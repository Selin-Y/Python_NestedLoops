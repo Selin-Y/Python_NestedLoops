{
 "cells": [
  {
   "cell_type": "markdown",
   "id": "4158de03",
   "metadata": {},
   "source": [
    "## Number Guessing Game"
   ]
  },
  {
   "cell_type": "markdown",
   "id": "6d0ff512",
   "metadata": {},
   "source": [
    "- A function named guess will be defined.\n",
    "- It will take 1 parameter.\n",
    "- Guess number will get a value to be used with a message."
   ]
  },
  {
   "cell_type": "markdown",
   "id": "46d5b3f8",
   "metadata": {},
   "source": [
    "## 1.Method"
   ]
  },
  {
   "cell_type": "code",
   "execution_count": 4,
   "id": "61240178",
   "metadata": {},
   "outputs": [
    {
     "name": "stdout",
     "output_type": "stream",
     "text": [
      "Make a guess for the number guessing game 18\n",
      "Congratulations, you guessed right. \n"
     ]
    }
   ],
   "source": [
    "def guess(num):\n",
    "    random_number = int(input(\"Make a guess for the number guessing game \"))\n",
    "    while num!= random_number:\n",
    "        if num < random_number:\n",
    "            print(\"Sorry, you should have guessed a smaller number. \")\n",
    "        else:\n",
    "            print(\"Sorry you should have guessed a bigger number. \")\n",
    "        random_number = int(input(\"Make a guess for the number guessing game. \"))\n",
    "    else:\n",
    "        print(\"Congratulations, you guessed right. \")\n",
    "        \n",
    "guess(18)"
   ]
  },
  {
   "cell_type": "markdown",
   "id": "c6a324f7",
   "metadata": {},
   "source": [
    "## 2.Method"
   ]
  },
  {
   "cell_type": "code",
   "execution_count": 6,
   "id": "a2bbbcf2",
   "metadata": {},
   "outputs": [
    {
     "name": "stdout",
     "output_type": "stream",
     "text": [
      "Make a guess for the number guessing game 5\n",
      "Sorry you should have guessed a bigger number. \n",
      "Make a guess for the number guessing game. 10\n",
      "Well, you're good\n"
     ]
    }
   ],
   "source": [
    "def guess(num):\n",
    "    count = 1\n",
    "    random_number = int(input(\"Make a guess for the number guessing game \"))\n",
    "    while num != random_number:\n",
    "        count += 1\n",
    "        if num < random_number:\n",
    "            print(\"Sorry, you should have guessed a smaller number. \")\n",
    "        else:\n",
    "            print(\"Sorry you should have guessed a bigger number. \")\n",
    "        random_number = int(input(\"Make a guess for the number guessing game. \"))\n",
    "    if count == 1:\n",
    "        print(\"Congratulations, you're so good at the number guessing game. \")\n",
    "    elif count < 5:\n",
    "        print(\"Well, you're good\")\n",
    "    else:\n",
    "        print(\"I think it's better if you don't play at all\")\n",
    "\n",
    "guess(10)"
   ]
  },
  {
   "cell_type": "markdown",
   "id": "25a53475",
   "metadata": {},
   "source": [
    "## 3.Method"
   ]
  },
  {
   "cell_type": "code",
   "execution_count": 1,
   "id": "6d3e1bf2",
   "metadata": {},
   "outputs": [
    {
     "name": "stdout",
     "output_type": "stream",
     "text": [
      "Make a guess for the number guessing game 20\n",
      "Sorry, you should have guessed a bigger number. \n",
      "Make a guess for the number guessing game. 30\n",
      "Sorry, you should have guessed a bigger number. \n",
      "Make a guess for the number guessing game. 40\n",
      "Sorry, you should have guessed a bigger number. \n",
      "Make a guess for the number guessing game. 60\n",
      "Sorry, you should have guessed a smaller number. \n",
      "Make a guess for the number guessing game. 50\n",
      "Sorry, you should have guessed a bigger number. \n",
      "Make a guess for the number guessing game. 55\n",
      "Sorry, you should have guessed a smaller number. \n",
      "Make a guess for the number guessing game. 54\n",
      "Sorry, you should have guessed a smaller number. \n",
      "Make a guess for the number guessing game. 51\n",
      "I think it's better if you don't play at all\n"
     ]
    }
   ],
   "source": [
    "import random\n",
    "def guess(num):\n",
    "    count = 1\n",
    "    random_number = int(input(\"Make a guess for the number guessing game \"))\n",
    "    while num != random_number:\n",
    "        count += 1\n",
    "        if num < random_number:\n",
    "            print(\"Sorry, you should have guessed a smaller number. \")\n",
    "        else:\n",
    "            print(\"Sorry, you should have guessed a bigger number. \")\n",
    "        random_number = int(input(\"Make a guess for the number guessing game. \"))\n",
    "    if count == 1:\n",
    "        print(\"Congratulations, you're so good at the number guessing game. \")\n",
    "    elif count < 5:\n",
    "        print(\"Well, you're good\")\n",
    "    else:\n",
    "        print(\"I think it's better if you don't play at all\")\n",
    "\n",
    "guess(random.randint(1,100)) "
   ]
  },
  {
   "cell_type": "markdown",
   "id": "7c3ff3c7",
   "metadata": {},
   "source": [
    "## Number guessing game against the computer"
   ]
  },
  {
   "cell_type": "code",
   "execution_count": 2,
   "id": "9974ee63",
   "metadata": {},
   "outputs": [
    {
     "name": "stdout",
     "output_type": "stream",
     "text": [
      "The value you are estimating 77,specify as b if it is greater than the value you have in mind,  k if it is less, and d if true b\n",
      "The value you are estimating 61,specify as b if it is greater than the value you have in mind,  k if it is less, and d if true k\n",
      "The value you are estimating 69,specify as b if it is greater than the value you have in mind,  k if it is less, and d if true d\n",
      "Congratulations, you guessed right\n"
     ]
    }
   ],
   "source": [
    "import random\n",
    "\n",
    "def computer_guess(num):\n",
    "    start, end = 1, 100\n",
    "    back = ''\n",
    "    while back != \"d\":\n",
    "        if start <= end:\n",
    "            guess = random.randint(start,end)\n",
    "        else:\n",
    "            guess = start\n",
    "        back = input(f\"The value you are estimating {guess},specify as b if it is greater than the value you have in mind,  k if it is less, and d if true \").lower()                                                                                                                \n",
    "        if back == 'b':\n",
    "            end = guess -1\n",
    "        elif back == 'k':\n",
    "            start = guess + 1\n",
    "        elif back != 'd':\n",
    "            print(\"You used the wrong expression\")\n",
    "    print(\"Congratulations, you guessed right\")\n",
    "\n",
    "computer_guess(10) "
   ]
  },
  {
   "cell_type": "code",
   "execution_count": null,
   "id": "ef145ad9",
   "metadata": {},
   "outputs": [],
   "source": []
  }
 ],
 "metadata": {
  "kernelspec": {
   "display_name": "Python 3 (ipykernel)",
   "language": "python",
   "name": "python3"
  },
  "language_info": {
   "codemirror_mode": {
    "name": "ipython",
    "version": 3
   },
   "file_extension": ".py",
   "mimetype": "text/x-python",
   "name": "python",
   "nbconvert_exporter": "python",
   "pygments_lexer": "ipython3",
   "version": "3.9.12"
  }
 },
 "nbformat": 4,
 "nbformat_minor": 5
}
