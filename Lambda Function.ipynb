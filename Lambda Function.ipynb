{
 "cells": [
  {
   "cell_type": "code",
   "execution_count": 1,
   "id": "1caeb011",
   "metadata": {},
   "outputs": [],
   "source": [
    "## Let's write a function that returns twice its value."
   ]
  },
  {
   "cell_type": "code",
   "execution_count": 6,
   "id": "fe0543ca",
   "metadata": {},
   "outputs": [
    {
     "name": "stdout",
     "output_type": "stream",
     "text": [
      "20\n"
     ]
    }
   ],
   "source": [
    "def double(x):\n",
    "    return x *2\n",
    "print(double(10))"
   ]
  },
  {
   "cell_type": "code",
   "execution_count": 7,
   "id": "5d075959",
   "metadata": {},
   "outputs": [],
   "source": [
    "## Let's write a lambda function that returns twice its value."
   ]
  },
  {
   "cell_type": "code",
   "execution_count": 8,
   "id": "16a7af4a",
   "metadata": {},
   "outputs": [
    {
     "name": "stdout",
     "output_type": "stream",
     "text": [
      "20\n"
     ]
    }
   ],
   "source": [
    "double = lambda x: x*2\n",
    "print(double(10))"
   ]
  },
  {
   "cell_type": "code",
   "execution_count": 9,
   "id": "69add486",
   "metadata": {},
   "outputs": [],
   "source": [
    "# It takes default value"
   ]
  },
  {
   "cell_type": "code",
   "execution_count": 10,
   "id": "8334c73e",
   "metadata": {},
   "outputs": [
    {
     "name": "stdout",
     "output_type": "stream",
     "text": [
      "46\n"
     ]
    }
   ],
   "source": [
    "double = lambda x = 2: x*2\n",
    "print(double(23))"
   ]
  },
  {
   "cell_type": "code",
   "execution_count": 11,
   "id": "d094ce7c",
   "metadata": {},
   "outputs": [
    {
     "name": "stdout",
     "output_type": "stream",
     "text": [
      "4\n"
     ]
    }
   ],
   "source": [
    "double = lambda x = 2: x*2\n",
    "print(double())"
   ]
  },
  {
   "cell_type": "code",
   "execution_count": 12,
   "id": "75219112",
   "metadata": {},
   "outputs": [],
   "source": [
    "# Using if, else decision structures with functions."
   ]
  },
  {
   "cell_type": "code",
   "execution_count": 13,
   "id": "28e42e53",
   "metadata": {},
   "outputs": [
    {
     "data": {
      "text/plain": [
       "60"
      ]
     },
     "execution_count": 13,
     "metadata": {},
     "output_type": "execute_result"
    }
   ],
   "source": [
    "def max(x,y):\n",
    "    if x > y:\n",
    "        return x\n",
    "    else:\n",
    "        return y\n",
    "max(45,60)"
   ]
  },
  {
   "cell_type": "code",
   "execution_count": 15,
   "id": "dc5ccfa5",
   "metadata": {},
   "outputs": [
    {
     "data": {
      "text/plain": [
       "60"
      ]
     },
     "execution_count": 15,
     "metadata": {},
     "output_type": "execute_result"
    }
   ],
   "source": [
    "max = lambda x, y: x if x > y else y\n",
    "max(45,60)"
   ]
  },
  {
   "cell_type": "code",
   "execution_count": 16,
   "id": "2826a737",
   "metadata": {},
   "outputs": [
    {
     "name": "stdout",
     "output_type": "stream",
     "text": [
      "[10, 20, 30, 40]\n"
     ]
    }
   ],
   "source": [
    "# Multiply each value in the list by 10.\n",
    "my_list = [1,2,3,4]\n",
    "new_list = lambda x: (i*10 for i in x)\n",
    "print(list(new_list(my_list)))"
   ]
  },
  {
   "cell_type": "code",
   "execution_count": 17,
   "id": "ea08b437",
   "metadata": {},
   "outputs": [
    {
     "name": "stdout",
     "output_type": "stream",
     "text": [
      "[[1, 2, 4, 6], [3, 5, 7, 9]]\n"
     ]
    }
   ],
   "source": [
    "# Sorted\n",
    "my_list = [[2,6,4,1],[7,5,3,9]]\n",
    "sort_list = lambda x: (sorted(i) for i in x)\n",
    "print(list(sort_list(my_list)))"
   ]
  },
  {
   "cell_type": "code",
   "execution_count": 20,
   "id": "eb5d259c",
   "metadata": {},
   "outputs": [
    {
     "name": "stdout",
     "output_type": "stream",
     "text": [
      "[2, 4, 6, 8, 10, 12, 14, 16, 18, 0]\n"
     ]
    }
   ],
   "source": [
    "# Using with map()\n",
    "my_list = [1,2,3,4,5,6,7,8,9,0]\n",
    "new_list = list(map(lambda x: x*2, my_list))\n",
    "print(new_list)"
   ]
  },
  {
   "cell_type": "code",
   "execution_count": 22,
   "id": "648fd487",
   "metadata": {},
   "outputs": [
    {
     "name": "stdout",
     "output_type": "stream",
     "text": [
      "[3, 9, 15]\n"
     ]
    }
   ],
   "source": [
    "# Print the code block that returns 3 times each first element in the list with map.\n",
    "A = [[1,2], [3,4], [5,6]]\n",
    "print(list(map(lambda x: x[0] * 3, A)))"
   ]
  },
  {
   "cell_type": "code",
   "execution_count": 24,
   "id": "520ca3ad",
   "metadata": {},
   "outputs": [
    {
     "name": "stdout",
     "output_type": "stream",
     "text": [
      "[3, 4, 5]\n"
     ]
    }
   ],
   "source": [
    "# First, find the list whose list [10,20,30,40,50] is greater than 20 with filter.\n",
    "# With map, make integer division on the elements in this list and divide by 10.\n",
    "\n",
    "my_list = [10,20,30,40,50]\n",
    "new_list = list(map(lambda x: x //10, filter(lambda x: x > 20, my_list)))\n",
    "                    \n",
    "print(new_list)                   "
   ]
  },
  {
   "cell_type": "code",
   "execution_count": 25,
   "id": "b13cac0a",
   "metadata": {},
   "outputs": [
    {
     "data": {
      "text/plain": [
       "[20, 10, 30]"
      ]
     },
     "execution_count": 25,
     "metadata": {},
     "output_type": "execute_result"
    }
   ],
   "source": [
    "# Let's define a mixed type list. \n",
    "# Find elements of type int in the list.\n",
    "my_list = [\"python\", 20, 10, True, 30, \"b\"]\n",
    "list(filter(lambda a: type(a) == int, my_list))"
   ]
  },
  {
   "cell_type": "code",
   "execution_count": 26,
   "id": "f959c714",
   "metadata": {},
   "outputs": [
    {
     "data": {
      "text/plain": [
       "['Anna', 'Rebecca', 'Jack']"
      ]
     },
     "execution_count": 26,
     "metadata": {},
     "output_type": "execute_result"
    }
   ],
   "source": [
    "# Let's capitalize the first letters of our list.\n",
    "my_list= [\"anna\", \"rebecca\", \"jack\"]\n",
    "list(map(lambda x: x.capitalize(), my_list))"
   ]
  },
  {
   "cell_type": "code",
   "execution_count": 27,
   "id": "480f38bf",
   "metadata": {},
   "outputs": [
    {
     "data": {
      "text/plain": [
       "['ANNA', 'REBECCA', 'JACK']"
      ]
     },
     "execution_count": 27,
     "metadata": {},
     "output_type": "execute_result"
    }
   ],
   "source": [
    "# define a string type list \n",
    "# then print them in capital letters.\n",
    "my_list= [\"anna\", \"rebecca\", \"jack\"]\n",
    "list(map(lambda x: x.upper(), my_list))"
   ]
  },
  {
   "cell_type": "code",
   "execution_count": 31,
   "id": "f17fb5dc",
   "metadata": {},
   "outputs": [
    {
     "name": "stdout",
     "output_type": "stream",
     "text": [
      "True\n"
     ]
    }
   ],
   "source": [
    "# Let's write a function that checks if a number is even.\n",
    "def function(number):\n",
    "    return number % 2 == 0\n",
    "print(function(40))"
   ]
  },
  {
   "cell_type": "code",
   "execution_count": 32,
   "id": "9c11c3f0",
   "metadata": {},
   "outputs": [
    {
     "name": "stdout",
     "output_type": "stream",
     "text": [
      "False\n"
     ]
    }
   ],
   "source": [
    "def function(number):\n",
    "    return number % 2 == 0\n",
    "print(function(41))"
   ]
  },
  {
   "cell_type": "code",
   "execution_count": 34,
   "id": "a89b7b87",
   "metadata": {},
   "outputs": [
    {
     "name": "stdout",
     "output_type": "stream",
     "text": [
      "True\n"
     ]
    }
   ],
   "source": [
    "# Let's write a lambda function that checks if a number is even.\n",
    "function = lambda x: x % 2 == 0\n",
    "print(function(40))"
   ]
  },
  {
   "cell_type": "code",
   "execution_count": 35,
   "id": "9813df95",
   "metadata": {},
   "outputs": [
    {
     "name": "stdout",
     "output_type": "stream",
     "text": [
      "False\n"
     ]
    }
   ],
   "source": [
    "function = lambda x: x % 2 == 0\n",
    "print(function(41))"
   ]
  },
  {
   "cell_type": "code",
   "execution_count": 36,
   "id": "00959c68",
   "metadata": {},
   "outputs": [
    {
     "name": "stdout",
     "output_type": "stream",
     "text": [
      "4\n",
      "25\n",
      "100\n",
      "529\n",
      "9\n",
      "36\n"
     ]
    }
   ],
   "source": [
    "# Calculate the square of all numbers in a list.\n",
    "x = [2,5,10,23,3,6]\n",
    "for i in x:\n",
    "    print(i **2)\n",
    "    "
   ]
  },
  {
   "cell_type": "code",
   "execution_count": 37,
   "id": "ed30c1d4",
   "metadata": {},
   "outputs": [
    {
     "name": "stdout",
     "output_type": "stream",
     "text": [
      "4 25 100 529 9 36\n"
     ]
    }
   ],
   "source": [
    "print(*map(lambda number: number ** 2 , x))"
   ]
  },
  {
   "cell_type": "code",
   "execution_count": null,
   "id": "1ccf8481",
   "metadata": {},
   "outputs": [],
   "source": []
  }
 ],
 "metadata": {
  "kernelspec": {
   "display_name": "Python 3 (ipykernel)",
   "language": "python",
   "name": "python3"
  },
  "language_info": {
   "codemirror_mode": {
    "name": "ipython",
    "version": 3
   },
   "file_extension": ".py",
   "mimetype": "text/x-python",
   "name": "python",
   "nbconvert_exporter": "python",
   "pygments_lexer": "ipython3",
   "version": "3.9.12"
  }
 },
 "nbformat": 4,
 "nbformat_minor": 5
}
